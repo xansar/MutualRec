{
 "cells": [
  {
   "cell_type": "code",
   "execution_count": null,
   "outputs": [],
   "source": [
    "import networkx as nx\n",
    "import dgl\n",
    "import numpy as np"
   ],
   "metadata": {
    "collapsed": false,
    "pycharm": {
     "name": "#%%\n"
    }
   }
  },
  {
   "cell_type": "code",
   "execution_count": 85,
   "outputs": [
    {
     "data": {
      "text/plain": "         user   item  rating\n0           1    104     2.0\n1           1    106     5.0\n2           1    107     5.0\n3           1    108     5.0\n4           1    109     3.0\n...       ...    ...     ...\n273974  43486  19679     2.0\n273975  43486    363     3.0\n273976  43486  44038     2.0\n273977  43486  61575     5.0\n273978  43486  66546     5.0\n\n[273979 rows x 3 columns]",
      "text/html": "<div>\n<style scoped>\n    .dataframe tbody tr th:only-of-type {\n        vertical-align: middle;\n    }\n\n    .dataframe tbody tr th {\n        vertical-align: top;\n    }\n\n    .dataframe thead th {\n        text-align: right;\n    }\n</style>\n<table border=\"1\" class=\"dataframe\">\n  <thead>\n    <tr style=\"text-align: right;\">\n      <th></th>\n      <th>user</th>\n      <th>item</th>\n      <th>rating</th>\n    </tr>\n  </thead>\n  <tbody>\n    <tr>\n      <th>0</th>\n      <td>1</td>\n      <td>104</td>\n      <td>2.0</td>\n    </tr>\n    <tr>\n      <th>1</th>\n      <td>1</td>\n      <td>106</td>\n      <td>5.0</td>\n    </tr>\n    <tr>\n      <th>2</th>\n      <td>1</td>\n      <td>107</td>\n      <td>5.0</td>\n    </tr>\n    <tr>\n      <th>3</th>\n      <td>1</td>\n      <td>108</td>\n      <td>5.0</td>\n    </tr>\n    <tr>\n      <th>4</th>\n      <td>1</td>\n      <td>109</td>\n      <td>3.0</td>\n    </tr>\n    <tr>\n      <th>...</th>\n      <td>...</td>\n      <td>...</td>\n      <td>...</td>\n    </tr>\n    <tr>\n      <th>273974</th>\n      <td>43486</td>\n      <td>19679</td>\n      <td>2.0</td>\n    </tr>\n    <tr>\n      <th>273975</th>\n      <td>43486</td>\n      <td>363</td>\n      <td>3.0</td>\n    </tr>\n    <tr>\n      <th>273976</th>\n      <td>43486</td>\n      <td>44038</td>\n      <td>2.0</td>\n    </tr>\n    <tr>\n      <th>273977</th>\n      <td>43486</td>\n      <td>61575</td>\n      <td>5.0</td>\n    </tr>\n    <tr>\n      <th>273978</th>\n      <td>43486</td>\n      <td>66546</td>\n      <td>5.0</td>\n    </tr>\n  </tbody>\n</table>\n<p>273979 rows × 3 columns</p>\n</div>"
     },
     "execution_count": 85,
     "metadata": {},
     "output_type": "execute_result"
    }
   ],
   "source": [
    "import pandas as pd\n",
    "rating_df = pd.read_csv('./data/rating_data.csv', sep=',')\n",
    "rating_df"
   ],
   "metadata": {
    "collapsed": false,
    "pycharm": {
     "name": "#%%\n"
    }
   }
  },
  {
   "cell_type": "code",
   "execution_count": 86,
   "outputs": [
    {
     "data": {
      "text/plain": "        user1  user2  weight\n0        2824   2696     1.0\n1        2824  18333     1.0\n2        2824  10308     1.0\n3        2824   1176     1.0\n4        2824    208     1.0\n...       ...    ...     ...\n303308    615   1294     1.0\n303309    615   1096     1.0\n303310    615    145     1.0\n303311    615   1499     1.0\n303312    615    330     1.0\n\n[303313 rows x 3 columns]",
      "text/html": "<div>\n<style scoped>\n    .dataframe tbody tr th:only-of-type {\n        vertical-align: middle;\n    }\n\n    .dataframe tbody tr th {\n        vertical-align: top;\n    }\n\n    .dataframe thead th {\n        text-align: right;\n    }\n</style>\n<table border=\"1\" class=\"dataframe\">\n  <thead>\n    <tr style=\"text-align: right;\">\n      <th></th>\n      <th>user1</th>\n      <th>user2</th>\n      <th>weight</th>\n    </tr>\n  </thead>\n  <tbody>\n    <tr>\n      <th>0</th>\n      <td>2824</td>\n      <td>2696</td>\n      <td>1.0</td>\n    </tr>\n    <tr>\n      <th>1</th>\n      <td>2824</td>\n      <td>18333</td>\n      <td>1.0</td>\n    </tr>\n    <tr>\n      <th>2</th>\n      <td>2824</td>\n      <td>10308</td>\n      <td>1.0</td>\n    </tr>\n    <tr>\n      <th>3</th>\n      <td>2824</td>\n      <td>1176</td>\n      <td>1.0</td>\n    </tr>\n    <tr>\n      <th>4</th>\n      <td>2824</td>\n      <td>208</td>\n      <td>1.0</td>\n    </tr>\n    <tr>\n      <th>...</th>\n      <td>...</td>\n      <td>...</td>\n      <td>...</td>\n    </tr>\n    <tr>\n      <th>303308</th>\n      <td>615</td>\n      <td>1294</td>\n      <td>1.0</td>\n    </tr>\n    <tr>\n      <th>303309</th>\n      <td>615</td>\n      <td>1096</td>\n      <td>1.0</td>\n    </tr>\n    <tr>\n      <th>303310</th>\n      <td>615</td>\n      <td>145</td>\n      <td>1.0</td>\n    </tr>\n    <tr>\n      <th>303311</th>\n      <td>615</td>\n      <td>1499</td>\n      <td>1.0</td>\n    </tr>\n    <tr>\n      <th>303312</th>\n      <td>615</td>\n      <td>330</td>\n      <td>1.0</td>\n    </tr>\n  </tbody>\n</table>\n<p>303313 rows × 3 columns</p>\n</div>"
     },
     "execution_count": 86,
     "metadata": {},
     "output_type": "execute_result"
    }
   ],
   "source": [
    "link_df = pd.read_csv('./data/link_data.csv', sep=',')\n",
    "link_df"
   ],
   "metadata": {
    "collapsed": false,
    "pycharm": {
     "name": "#%%\n"
    }
   }
  },
  {
   "cell_type": "code",
   "execution_count": null,
   "outputs": [],
   "source": [
    "rating_df.user.value_counts().sort_index().index"
   ],
   "metadata": {
    "collapsed": false,
    "pycharm": {
     "name": "#%%\n"
    }
   }
  },
  {
   "cell_type": "code",
   "execution_count": null,
   "outputs": [],
   "source": [
    "link_df.user1.value_counts().sort_index().index"
   ],
   "metadata": {
    "collapsed": false,
    "pycharm": {
     "name": "#%%\n"
    }
   }
  },
  {
   "cell_type": "code",
   "execution_count": null,
   "outputs": [],
   "source": [
    "# 保证rating和link里面的user一致\n",
    "(~rating_df.user.value_counts().sort_index().index == link_df.user1.value_counts().sort_index().index).sum()"
   ],
   "metadata": {
    "collapsed": false,
    "pycharm": {
     "name": "#%%\n"
    }
   }
  },
  {
   "cell_type": "code",
   "execution_count": null,
   "outputs": [],
   "source": [
    "(~rating_df.user.value_counts().sort_index().index == link_df.user2.value_counts().sort_index().index).sum()"
   ],
   "metadata": {
    "collapsed": false,
    "pycharm": {
     "name": "#%%\n"
    }
   }
  },
  {
   "cell_type": "code",
   "execution_count": 105,
   "outputs": [
    {
     "data": {
      "text/plain": "19212"
     },
     "execution_count": 105,
     "metadata": {},
     "output_type": "execute_result"
    }
   ],
   "source": [
    "item_N = len(rating_df.item.value_counts())\n",
    "item_N"
   ],
   "metadata": {
    "collapsed": false,
    "pycharm": {
     "name": "#%%\n"
    }
   }
  },
  {
   "cell_type": "code",
   "execution_count": 106,
   "outputs": [
    {
     "data": {
      "text/plain": "7968"
     },
     "execution_count": 106,
     "metadata": {},
     "output_type": "execute_result"
    }
   ],
   "source": [
    "user_N = len(rating_df.user.value_counts())\n",
    "user_N"
   ],
   "metadata": {
    "collapsed": false,
    "pycharm": {
     "name": "#%%\n"
    }
   }
  },
  {
   "cell_type": "code",
   "execution_count": null,
   "outputs": [],
   "source": [
    "u_array = np.arange(user_N)\n",
    "u_array"
   ],
   "metadata": {
    "collapsed": false,
    "pycharm": {
     "name": "#%%\n"
    }
   }
  },
  {
   "cell_type": "code",
   "execution_count": null,
   "outputs": [],
   "source": [
    "i_array = np.arange(user_N, user_N + item_N)\n",
    "i_array"
   ],
   "metadata": {
    "collapsed": false,
    "pycharm": {
     "name": "#%%\n"
    }
   }
  },
  {
   "cell_type": "code",
   "execution_count": null,
   "outputs": [],
   "source": [
    "# 生成字典\n",
    "sorted_user_idx_lst = sorted(rating_df.user.value_counts().index)\n",
    "sorted_user_idx_lst"
   ],
   "metadata": {
    "collapsed": false,
    "pycharm": {
     "name": "#%%\n"
    }
   }
  },
  {
   "cell_type": "code",
   "execution_count": null,
   "outputs": [],
   "source": [
    "user_raw_idx2new_idx = {}\n",
    "user_new_idx2raw_idx = {}\n",
    "for i in range(len(sorted_user_idx_lst)):\n",
    "    raw_id = sorted_user_idx_lst[i]\n",
    "    new_id = int(u_array[i])\n",
    "    # print(type(raw_id), type(new_id))\n",
    "    user_raw_idx2new_idx[raw_id] = new_id\n",
    "    user_new_idx2raw_idx[new_id] = raw_id\n",
    "    # print(user_raw_idx2new_idx)"
   ],
   "metadata": {
    "collapsed": false,
    "pycharm": {
     "name": "#%%\n"
    }
   }
  },
  {
   "cell_type": "code",
   "execution_count": 102,
   "outputs": [
    {
     "data": {
      "text/plain": "{1: 0,\n 2: 1,\n 4: 2,\n 5: 3,\n 7: 4,\n 8: 5,\n 9: 6,\n 11: 7,\n 12: 8,\n 14: 9,\n 16: 10,\n 19: 11,\n 20: 12,\n 21: 13,\n 22: 14,\n 23: 15,\n 24: 16,\n 27: 17,\n 28: 18,\n 29: 19,\n 30: 20,\n 31: 21,\n 32: 22,\n 33: 23,\n 34: 24,\n 35: 25,\n 38: 26,\n 40: 27,\n 41: 28,\n 42: 29,\n 45: 30,\n 46: 31,\n 47: 32,\n 48: 33,\n 50: 34,\n 51: 35,\n 53: 36,\n 56: 37,\n 57: 38,\n 58: 39,\n 59: 40,\n 60: 41,\n 61: 42,\n 62: 43,\n 65: 44,\n 66: 45,\n 67: 46,\n 68: 47,\n 69: 48,\n 71: 49,\n 72: 50,\n 73: 51,\n 74: 52,\n 76: 53,\n 77: 54,\n 78: 55,\n 79: 56,\n 80: 57,\n 81: 58,\n 82: 59,\n 85: 60,\n 86: 61,\n 87: 62,\n 89: 63,\n 90: 64,\n 91: 65,\n 92: 66,\n 93: 67,\n 94: 68,\n 95: 69,\n 96: 70,\n 99: 71,\n 102: 72,\n 103: 73,\n 105: 74,\n 108: 75,\n 109: 76,\n 110: 77,\n 111: 78,\n 112: 79,\n 114: 80,\n 115: 81,\n 116: 82,\n 117: 83,\n 118: 84,\n 120: 85,\n 121: 86,\n 122: 87,\n 123: 88,\n 124: 89,\n 125: 90,\n 127: 91,\n 128: 92,\n 129: 93,\n 130: 94,\n 132: 95,\n 133: 96,\n 134: 97,\n 135: 98,\n 136: 99,\n 137: 100,\n 138: 101,\n 139: 102,\n 140: 103,\n 142: 104,\n 143: 105,\n 144: 106,\n 145: 107,\n 146: 108,\n 147: 109,\n 148: 110,\n 150: 111,\n 152: 112,\n 153: 113,\n 154: 114,\n 155: 115,\n 156: 116,\n 157: 117,\n 158: 118,\n 159: 119,\n 160: 120,\n 161: 121,\n 162: 122,\n 163: 123,\n 164: 124,\n 165: 125,\n 166: 126,\n 167: 127,\n 169: 128,\n 171: 129,\n 172: 130,\n 173: 131,\n 174: 132,\n 176: 133,\n 177: 134,\n 178: 135,\n 179: 136,\n 180: 137,\n 181: 138,\n 182: 139,\n 183: 140,\n 185: 141,\n 186: 142,\n 187: 143,\n 188: 144,\n 189: 145,\n 190: 146,\n 191: 147,\n 193: 148,\n 194: 149,\n 195: 150,\n 198: 151,\n 199: 152,\n 201: 153,\n 202: 154,\n 203: 155,\n 204: 156,\n 205: 157,\n 206: 158,\n 207: 159,\n 208: 160,\n 209: 161,\n 210: 162,\n 211: 163,\n 212: 164,\n 214: 165,\n 215: 166,\n 216: 167,\n 218: 168,\n 219: 169,\n 220: 170,\n 223: 171,\n 224: 172,\n 225: 173,\n 226: 174,\n 227: 175,\n 228: 176,\n 229: 177,\n 230: 178,\n 231: 179,\n 232: 180,\n 233: 181,\n 234: 182,\n 235: 183,\n 236: 184,\n 237: 185,\n 238: 186,\n 239: 187,\n 240: 188,\n 241: 189,\n 243: 190,\n 244: 191,\n 245: 192,\n 246: 193,\n 247: 194,\n 248: 195,\n 249: 196,\n 251: 197,\n 252: 198,\n 254: 199,\n 255: 200,\n 256: 201,\n 257: 202,\n 259: 203,\n 260: 204,\n 262: 205,\n 263: 206,\n 264: 207,\n 265: 208,\n 266: 209,\n 267: 210,\n 268: 211,\n 269: 212,\n 271: 213,\n 272: 214,\n 273: 215,\n 274: 216,\n 275: 217,\n 276: 218,\n 277: 219,\n 278: 220,\n 279: 221,\n 280: 222,\n 281: 223,\n 282: 224,\n 283: 225,\n 284: 226,\n 285: 227,\n 286: 228,\n 287: 229,\n 288: 230,\n 289: 231,\n 290: 232,\n 291: 233,\n 292: 234,\n 293: 235,\n 294: 236,\n 295: 237,\n 296: 238,\n 297: 239,\n 298: 240,\n 299: 241,\n 300: 242,\n 301: 243,\n 302: 244,\n 303: 245,\n 304: 246,\n 305: 247,\n 307: 248,\n 308: 249,\n 309: 250,\n 310: 251,\n 312: 252,\n 314: 253,\n 315: 254,\n 317: 255,\n 318: 256,\n 319: 257,\n 320: 258,\n 321: 259,\n 322: 260,\n 323: 261,\n 324: 262,\n 325: 263,\n 326: 264,\n 328: 265,\n 329: 266,\n 330: 267,\n 331: 268,\n 332: 269,\n 333: 270,\n 334: 271,\n 335: 272,\n 336: 273,\n 337: 274,\n 338: 275,\n 339: 276,\n 340: 277,\n 341: 278,\n 342: 279,\n 343: 280,\n 344: 281,\n 345: 282,\n 346: 283,\n 347: 284,\n 348: 285,\n 349: 286,\n 352: 287,\n 353: 288,\n 354: 289,\n 355: 290,\n 356: 291,\n 357: 292,\n 358: 293,\n 360: 294,\n 361: 295,\n 362: 296,\n 363: 297,\n 364: 298,\n 366: 299,\n 367: 300,\n 368: 301,\n 369: 302,\n 370: 303,\n 373: 304,\n 374: 305,\n 375: 306,\n 376: 307,\n 377: 308,\n 378: 309,\n 379: 310,\n 380: 311,\n 381: 312,\n 382: 313,\n 383: 314,\n 385: 315,\n 386: 316,\n 387: 317,\n 388: 318,\n 389: 319,\n 390: 320,\n 391: 321,\n 392: 322,\n 393: 323,\n 394: 324,\n 395: 325,\n 396: 326,\n 397: 327,\n 398: 328,\n 399: 329,\n 400: 330,\n 401: 331,\n 402: 332,\n 403: 333,\n 405: 334,\n 406: 335,\n 407: 336,\n 408: 337,\n 409: 338,\n 410: 339,\n 411: 340,\n 412: 341,\n 413: 342,\n 414: 343,\n 415: 344,\n 416: 345,\n 417: 346,\n 418: 347,\n 419: 348,\n 420: 349,\n 421: 350,\n 422: 351,\n 423: 352,\n 424: 353,\n 425: 354,\n 426: 355,\n 427: 356,\n 428: 357,\n 429: 358,\n 430: 359,\n 431: 360,\n 432: 361,\n 433: 362,\n 434: 363,\n 435: 364,\n 437: 365,\n 438: 366,\n 439: 367,\n 440: 368,\n 441: 369,\n 442: 370,\n 443: 371,\n 444: 372,\n 445: 373,\n 446: 374,\n 447: 375,\n 448: 376,\n 449: 377,\n 450: 378,\n 451: 379,\n 452: 380,\n 453: 381,\n 454: 382,\n 455: 383,\n 456: 384,\n 457: 385,\n 458: 386,\n 459: 387,\n 460: 388,\n 461: 389,\n 462: 390,\n 463: 391,\n 464: 392,\n 465: 393,\n 467: 394,\n 469: 395,\n 470: 396,\n 471: 397,\n 472: 398,\n 473: 399,\n 474: 400,\n 475: 401,\n 476: 402,\n 477: 403,\n 478: 404,\n 479: 405,\n 480: 406,\n 481: 407,\n 483: 408,\n 484: 409,\n 485: 410,\n 486: 411,\n 487: 412,\n 488: 413,\n 489: 414,\n 490: 415,\n 491: 416,\n 492: 417,\n 493: 418,\n 494: 419,\n 495: 420,\n 496: 421,\n 498: 422,\n 499: 423,\n 501: 424,\n 502: 425,\n 504: 426,\n 505: 427,\n 508: 428,\n 510: 429,\n 511: 430,\n 514: 431,\n 515: 432,\n 516: 433,\n 517: 434,\n 518: 435,\n 520: 436,\n 522: 437,\n 523: 438,\n 524: 439,\n 526: 440,\n 527: 441,\n 528: 442,\n 529: 443,\n 533: 444,\n 539: 445,\n 545: 446,\n 547: 447,\n 556: 448,\n 558: 449,\n 559: 450,\n 560: 451,\n 561: 452,\n 562: 453,\n 563: 454,\n 565: 455,\n 566: 456,\n 568: 457,\n 569: 458,\n 570: 459,\n 571: 460,\n 572: 461,\n 573: 462,\n 574: 463,\n 575: 464,\n 576: 465,\n 578: 466,\n 579: 467,\n 580: 468,\n 581: 469,\n 582: 470,\n 583: 471,\n 584: 472,\n 585: 473,\n 586: 474,\n 587: 475,\n 588: 476,\n 589: 477,\n 590: 478,\n 591: 479,\n 592: 480,\n 594: 481,\n 596: 482,\n 597: 483,\n 598: 484,\n 599: 485,\n 602: 486,\n 603: 487,\n 605: 488,\n 606: 489,\n 607: 490,\n 608: 491,\n 609: 492,\n 610: 493,\n 611: 494,\n 612: 495,\n 613: 496,\n 615: 497,\n 616: 498,\n 617: 499,\n 618: 500,\n 619: 501,\n 620: 502,\n 621: 503,\n 622: 504,\n 623: 505,\n 624: 506,\n 625: 507,\n 626: 508,\n 627: 509,\n 628: 510,\n 629: 511,\n 630: 512,\n 631: 513,\n 632: 514,\n 633: 515,\n 634: 516,\n 635: 517,\n 636: 518,\n 637: 519,\n 638: 520,\n 639: 521,\n 640: 522,\n 641: 523,\n 643: 524,\n 644: 525,\n 646: 526,\n 647: 527,\n 648: 528,\n 649: 529,\n 650: 530,\n 651: 531,\n 652: 532,\n 653: 533,\n 654: 534,\n 655: 535,\n 656: 536,\n 657: 537,\n 658: 538,\n 660: 539,\n 661: 540,\n 662: 541,\n 663: 542,\n 665: 543,\n 666: 544,\n 667: 545,\n 668: 546,\n 669: 547,\n 670: 548,\n 671: 549,\n 672: 550,\n 673: 551,\n 674: 552,\n 675: 553,\n 676: 554,\n 677: 555,\n 679: 556,\n 680: 557,\n 681: 558,\n 682: 559,\n 683: 560,\n 684: 561,\n 685: 562,\n 686: 563,\n 687: 564,\n 688: 565,\n 689: 566,\n 690: 567,\n 691: 568,\n 692: 569,\n 693: 570,\n 694: 571,\n 695: 572,\n 696: 573,\n 697: 574,\n 698: 575,\n 700: 576,\n 701: 577,\n 703: 578,\n 704: 579,\n 705: 580,\n 706: 581,\n 707: 582,\n 708: 583,\n 709: 584,\n 710: 585,\n 711: 586,\n 712: 587,\n 713: 588,\n 714: 589,\n 715: 590,\n 716: 591,\n 717: 592,\n 718: 593,\n 719: 594,\n 720: 595,\n 721: 596,\n 723: 597,\n 724: 598,\n 725: 599,\n 726: 600,\n 727: 601,\n 728: 602,\n 729: 603,\n 731: 604,\n 732: 605,\n 733: 606,\n 734: 607,\n 735: 608,\n 736: 609,\n 737: 610,\n 738: 611,\n 739: 612,\n 741: 613,\n 743: 614,\n 745: 615,\n 746: 616,\n 747: 617,\n 748: 618,\n 749: 619,\n 750: 620,\n 751: 621,\n 752: 622,\n 754: 623,\n 755: 624,\n 758: 625,\n 759: 626,\n 760: 627,\n 766: 628,\n 767: 629,\n 768: 630,\n 769: 631,\n 770: 632,\n 771: 633,\n 772: 634,\n 773: 635,\n 774: 636,\n 775: 637,\n 776: 638,\n 777: 639,\n 778: 640,\n 779: 641,\n 780: 642,\n 781: 643,\n 782: 644,\n 783: 645,\n 784: 646,\n 785: 647,\n 786: 648,\n 787: 649,\n 788: 650,\n 789: 651,\n 790: 652,\n 793: 653,\n 794: 654,\n 795: 655,\n 796: 656,\n 798: 657,\n 800: 658,\n 801: 659,\n 802: 660,\n 803: 661,\n 804: 662,\n 805: 663,\n 807: 664,\n 808: 665,\n 809: 666,\n 810: 667,\n 811: 668,\n 812: 669,\n 813: 670,\n 814: 671,\n 815: 672,\n 816: 673,\n 817: 674,\n 819: 675,\n 821: 676,\n 822: 677,\n 823: 678,\n 824: 679,\n 825: 680,\n 826: 681,\n 827: 682,\n 828: 683,\n 829: 684,\n 830: 685,\n 831: 686,\n 832: 687,\n 833: 688,\n 834: 689,\n 835: 690,\n 836: 691,\n 837: 692,\n 838: 693,\n 839: 694,\n 840: 695,\n 841: 696,\n 842: 697,\n 843: 698,\n 844: 699,\n 845: 700,\n 846: 701,\n 847: 702,\n 848: 703,\n 849: 704,\n 850: 705,\n 851: 706,\n 854: 707,\n 855: 708,\n 857: 709,\n 858: 710,\n 860: 711,\n 862: 712,\n 864: 713,\n 865: 714,\n 866: 715,\n 867: 716,\n 869: 717,\n 870: 718,\n 871: 719,\n 872: 720,\n 873: 721,\n 874: 722,\n 875: 723,\n 877: 724,\n 878: 725,\n 879: 726,\n 885: 727,\n 887: 728,\n 888: 729,\n 890: 730,\n 892: 731,\n 893: 732,\n 894: 733,\n 895: 734,\n 896: 735,\n 897: 736,\n 898: 737,\n 899: 738,\n 900: 739,\n 901: 740,\n 902: 741,\n 903: 742,\n 904: 743,\n 905: 744,\n 906: 745,\n 907: 746,\n 909: 747,\n 910: 748,\n 911: 749,\n 912: 750,\n 913: 751,\n 914: 752,\n 915: 753,\n 916: 754,\n 917: 755,\n 918: 756,\n 919: 757,\n 920: 758,\n 921: 759,\n 922: 760,\n 923: 761,\n 924: 762,\n 925: 763,\n 926: 764,\n 927: 765,\n 928: 766,\n 929: 767,\n 930: 768,\n 931: 769,\n 932: 770,\n 933: 771,\n 935: 772,\n 936: 773,\n 937: 774,\n 939: 775,\n 940: 776,\n 941: 777,\n 942: 778,\n 943: 779,\n 944: 780,\n 945: 781,\n 946: 782,\n 947: 783,\n 948: 784,\n 949: 785,\n 950: 786,\n 951: 787,\n 952: 788,\n 953: 789,\n 954: 790,\n 955: 791,\n 956: 792,\n 957: 793,\n 959: 794,\n 960: 795,\n 961: 796,\n 962: 797,\n 963: 798,\n 964: 799,\n 965: 800,\n 966: 801,\n 967: 802,\n 968: 803,\n 969: 804,\n 970: 805,\n 971: 806,\n 972: 807,\n 973: 808,\n 974: 809,\n 975: 810,\n 976: 811,\n 977: 812,\n 978: 813,\n 979: 814,\n 980: 815,\n 981: 816,\n 982: 817,\n 983: 818,\n 984: 819,\n 985: 820,\n 986: 821,\n 987: 822,\n 988: 823,\n 989: 824,\n 990: 825,\n 991: 826,\n 992: 827,\n 993: 828,\n 994: 829,\n 995: 830,\n 996: 831,\n 997: 832,\n 998: 833,\n 999: 834,\n 1000: 835,\n 1001: 836,\n 1002: 837,\n 1003: 838,\n 1004: 839,\n 1005: 840,\n 1007: 841,\n 1008: 842,\n 1009: 843,\n 1010: 844,\n 1011: 845,\n 1012: 846,\n 1013: 847,\n 1014: 848,\n 1015: 849,\n 1016: 850,\n 1018: 851,\n 1019: 852,\n 1020: 853,\n 1021: 854,\n 1022: 855,\n 1023: 856,\n 1024: 857,\n 1025: 858,\n 1026: 859,\n 1027: 860,\n 1028: 861,\n 1029: 862,\n 1030: 863,\n 1031: 864,\n 1032: 865,\n 1033: 866,\n 1034: 867,\n 1035: 868,\n 1036: 869,\n 1037: 870,\n 1038: 871,\n 1039: 872,\n 1040: 873,\n 1041: 874,\n 1042: 875,\n 1043: 876,\n 1044: 877,\n 1045: 878,\n 1046: 879,\n 1047: 880,\n 1048: 881,\n 1049: 882,\n 1050: 883,\n 1051: 884,\n 1052: 885,\n 1053: 886,\n 1054: 887,\n 1055: 888,\n 1056: 889,\n 1057: 890,\n 1058: 891,\n 1059: 892,\n 1060: 893,\n 1061: 894,\n 1062: 895,\n 1063: 896,\n 1064: 897,\n 1065: 898,\n 1067: 899,\n 1068: 900,\n 1069: 901,\n 1070: 902,\n 1071: 903,\n 1072: 904,\n 1073: 905,\n 1074: 906,\n 1075: 907,\n 1076: 908,\n 1077: 909,\n 1078: 910,\n 1079: 911,\n 1080: 912,\n 1081: 913,\n 1082: 914,\n 1083: 915,\n 1084: 916,\n 1085: 917,\n 1086: 918,\n 1087: 919,\n 1088: 920,\n 1089: 921,\n 1090: 922,\n 1091: 923,\n 1092: 924,\n 1093: 925,\n 1094: 926,\n 1095: 927,\n 1096: 928,\n 1097: 929,\n 1099: 930,\n 1100: 931,\n 1101: 932,\n 1102: 933,\n 1103: 934,\n 1104: 935,\n 1105: 936,\n 1106: 937,\n 1108: 938,\n 1109: 939,\n 1110: 940,\n 1111: 941,\n 1112: 942,\n 1113: 943,\n 1114: 944,\n 1115: 945,\n 1116: 946,\n 1117: 947,\n 1118: 948,\n 1119: 949,\n 1120: 950,\n 1121: 951,\n 1122: 952,\n 1123: 953,\n 1124: 954,\n 1125: 955,\n 1128: 956,\n 1129: 957,\n 1130: 958,\n 1131: 959,\n 1132: 960,\n 1134: 961,\n 1135: 962,\n 1137: 963,\n 1138: 964,\n 1139: 965,\n 1140: 966,\n 1142: 967,\n 1143: 968,\n 1144: 969,\n 1145: 970,\n 1146: 971,\n 1147: 972,\n 1148: 973,\n 1149: 974,\n 1150: 975,\n 1152: 976,\n 1153: 977,\n 1154: 978,\n 1155: 979,\n 1156: 980,\n 1157: 981,\n 1158: 982,\n 1160: 983,\n 1161: 984,\n 1162: 985,\n 1163: 986,\n 1164: 987,\n 1165: 988,\n 1166: 989,\n 1168: 990,\n 1169: 991,\n 1170: 992,\n 1171: 993,\n 1172: 994,\n 1173: 995,\n 1174: 996,\n 1175: 997,\n 1176: 998,\n 1177: 999,\n ...}"
     },
     "execution_count": 102,
     "metadata": {},
     "output_type": "execute_result"
    }
   ],
   "source": [
    "user_raw_idx2new_idx"
   ],
   "metadata": {
    "collapsed": false,
    "pycharm": {
     "name": "#%%\n"
    }
   }
  },
  {
   "cell_type": "code",
   "execution_count": null,
   "outputs": [],
   "source": [
    "user_new_idx2raw_idx"
   ],
   "metadata": {
    "collapsed": false,
    "pycharm": {
     "name": "#%%\n"
    }
   }
  },
  {
   "cell_type": "code",
   "execution_count": null,
   "outputs": [],
   "source": [
    "import json\n",
    "user_idx_dict = {\n",
    "    'raw2new': user_raw_idx2new_idx,\n",
    "    'new2raw': user_new_idx2raw_idx\n",
    "}\n",
    "with open('./data/user_idx_transfer.json', 'w') as f:\n",
    "    json.dump(user_idx_dict, f, indent=2)"
   ],
   "metadata": {
    "collapsed": false,
    "pycharm": {
     "name": "#%%\n"
    }
   }
  },
  {
   "cell_type": "code",
   "execution_count": null,
   "outputs": [],
   "source": [
    "# 生成字典\n",
    "sorted_item_idx_lst = sorted(rating_df.item.value_counts().index)\n",
    "sorted_item_idx_lst"
   ],
   "metadata": {
    "collapsed": false,
    "pycharm": {
     "name": "#%%\n"
    }
   }
  },
  {
   "cell_type": "code",
   "execution_count": null,
   "outputs": [],
   "source": [
    "item_raw_idx2new_idx = {}\n",
    "item_new_idx2raw_idx = {}\n",
    "for i in range(len(sorted_item_idx_lst)):\n",
    "    raw_id = sorted_item_idx_lst[i]\n",
    "    new_id = int(i_array[i])\n",
    "    item_raw_idx2new_idx[raw_id] = new_id\n",
    "    item_new_idx2raw_idx[new_id] = raw_id"
   ],
   "metadata": {
    "collapsed": false,
    "pycharm": {
     "name": "#%%\n"
    }
   }
  },
  {
   "cell_type": "code",
   "execution_count": null,
   "outputs": [],
   "source": [
    "item_raw_idx2new_idx"
   ],
   "metadata": {
    "collapsed": false,
    "pycharm": {
     "name": "#%%\n"
    }
   }
  },
  {
   "cell_type": "code",
   "execution_count": null,
   "outputs": [],
   "source": [
    "item_new_idx2raw_idx"
   ],
   "metadata": {
    "collapsed": false,
    "pycharm": {
     "name": "#%%\n"
    }
   }
  },
  {
   "cell_type": "code",
   "execution_count": null,
   "outputs": [],
   "source": [
    "item_idx_dict = {\n",
    "    'raw2new': item_raw_idx2new_idx,\n",
    "    'new2raw': item_new_idx2raw_idx\n",
    "}\n",
    "with open('./data/item_idx_transfer.json', 'w') as f:\n",
    "    json.dump(item_idx_dict, f, indent=2)"
   ],
   "metadata": {
    "collapsed": false,
    "pycharm": {
     "name": "#%%\n"
    }
   }
  },
  {
   "cell_type": "markdown",
   "source": [
    "# 将原始数据的idx替换"
   ],
   "metadata": {
    "collapsed": false
   }
  },
  {
   "cell_type": "code",
   "execution_count": 100,
   "outputs": [],
   "source": [
    "new_rating_df = rating_df.copy()"
   ],
   "metadata": {
    "collapsed": false,
    "pycharm": {
     "name": "#%%\n"
    }
   }
  },
  {
   "cell_type": "code",
   "execution_count": 101,
   "outputs": [
    {
     "data": {
      "text/plain": "         user   item  rating\n0           1    104     2.0\n1           1    106     5.0\n2           1    107     5.0\n3           1    108     5.0\n4           1    109     3.0\n...       ...    ...     ...\n273974  43486  19679     2.0\n273975  43486    363     3.0\n273976  43486  44038     2.0\n273977  43486  61575     5.0\n273978  43486  66546     5.0\n\n[273979 rows x 3 columns]",
      "text/html": "<div>\n<style scoped>\n    .dataframe tbody tr th:only-of-type {\n        vertical-align: middle;\n    }\n\n    .dataframe tbody tr th {\n        vertical-align: top;\n    }\n\n    .dataframe thead th {\n        text-align: right;\n    }\n</style>\n<table border=\"1\" class=\"dataframe\">\n  <thead>\n    <tr style=\"text-align: right;\">\n      <th></th>\n      <th>user</th>\n      <th>item</th>\n      <th>rating</th>\n    </tr>\n  </thead>\n  <tbody>\n    <tr>\n      <th>0</th>\n      <td>1</td>\n      <td>104</td>\n      <td>2.0</td>\n    </tr>\n    <tr>\n      <th>1</th>\n      <td>1</td>\n      <td>106</td>\n      <td>5.0</td>\n    </tr>\n    <tr>\n      <th>2</th>\n      <td>1</td>\n      <td>107</td>\n      <td>5.0</td>\n    </tr>\n    <tr>\n      <th>3</th>\n      <td>1</td>\n      <td>108</td>\n      <td>5.0</td>\n    </tr>\n    <tr>\n      <th>4</th>\n      <td>1</td>\n      <td>109</td>\n      <td>3.0</td>\n    </tr>\n    <tr>\n      <th>...</th>\n      <td>...</td>\n      <td>...</td>\n      <td>...</td>\n    </tr>\n    <tr>\n      <th>273974</th>\n      <td>43486</td>\n      <td>19679</td>\n      <td>2.0</td>\n    </tr>\n    <tr>\n      <th>273975</th>\n      <td>43486</td>\n      <td>363</td>\n      <td>3.0</td>\n    </tr>\n    <tr>\n      <th>273976</th>\n      <td>43486</td>\n      <td>44038</td>\n      <td>2.0</td>\n    </tr>\n    <tr>\n      <th>273977</th>\n      <td>43486</td>\n      <td>61575</td>\n      <td>5.0</td>\n    </tr>\n    <tr>\n      <th>273978</th>\n      <td>43486</td>\n      <td>66546</td>\n      <td>5.0</td>\n    </tr>\n  </tbody>\n</table>\n<p>273979 rows × 3 columns</p>\n</div>"
     },
     "execution_count": 101,
     "metadata": {},
     "output_type": "execute_result"
    }
   ],
   "source": [
    "new_rating_df"
   ],
   "metadata": {
    "collapsed": false,
    "pycharm": {
     "name": "#%%\n"
    }
   }
  },
  {
   "cell_type": "code",
   "execution_count": 103,
   "outputs": [
    {
     "data": {
      "text/plain": "        user   item  rating\n0          0    104     2.0\n1          0    106     5.0\n2          0    107     5.0\n3          0    108     5.0\n4          0    109     3.0\n...      ...    ...     ...\n273974  7967  19679     2.0\n273975  7967    363     3.0\n273976  7967  44038     2.0\n273977  7967  61575     5.0\n273978  7967  66546     5.0\n\n[273979 rows x 3 columns]",
      "text/html": "<div>\n<style scoped>\n    .dataframe tbody tr th:only-of-type {\n        vertical-align: middle;\n    }\n\n    .dataframe tbody tr th {\n        vertical-align: top;\n    }\n\n    .dataframe thead th {\n        text-align: right;\n    }\n</style>\n<table border=\"1\" class=\"dataframe\">\n  <thead>\n    <tr style=\"text-align: right;\">\n      <th></th>\n      <th>user</th>\n      <th>item</th>\n      <th>rating</th>\n    </tr>\n  </thead>\n  <tbody>\n    <tr>\n      <th>0</th>\n      <td>0</td>\n      <td>104</td>\n      <td>2.0</td>\n    </tr>\n    <tr>\n      <th>1</th>\n      <td>0</td>\n      <td>106</td>\n      <td>5.0</td>\n    </tr>\n    <tr>\n      <th>2</th>\n      <td>0</td>\n      <td>107</td>\n      <td>5.0</td>\n    </tr>\n    <tr>\n      <th>3</th>\n      <td>0</td>\n      <td>108</td>\n      <td>5.0</td>\n    </tr>\n    <tr>\n      <th>4</th>\n      <td>0</td>\n      <td>109</td>\n      <td>3.0</td>\n    </tr>\n    <tr>\n      <th>...</th>\n      <td>...</td>\n      <td>...</td>\n      <td>...</td>\n    </tr>\n    <tr>\n      <th>273974</th>\n      <td>7967</td>\n      <td>19679</td>\n      <td>2.0</td>\n    </tr>\n    <tr>\n      <th>273975</th>\n      <td>7967</td>\n      <td>363</td>\n      <td>3.0</td>\n    </tr>\n    <tr>\n      <th>273976</th>\n      <td>7967</td>\n      <td>44038</td>\n      <td>2.0</td>\n    </tr>\n    <tr>\n      <th>273977</th>\n      <td>7967</td>\n      <td>61575</td>\n      <td>5.0</td>\n    </tr>\n    <tr>\n      <th>273978</th>\n      <td>7967</td>\n      <td>66546</td>\n      <td>5.0</td>\n    </tr>\n  </tbody>\n</table>\n<p>273979 rows × 3 columns</p>\n</div>"
     },
     "execution_count": 103,
     "metadata": {},
     "output_type": "execute_result"
    }
   ],
   "source": [
    "new_rating_df['user'] = new_rating_df['user'].apply(lambda x: user_raw_idx2new_idx[x])\n",
    "new_rating_df"
   ],
   "metadata": {
    "collapsed": false,
    "pycharm": {
     "name": "#%%\n"
    }
   }
  },
  {
   "cell_type": "code",
   "execution_count": 104,
   "outputs": [
    {
     "data": {
      "text/plain": "        user   item  rating\n0          0   7985     2.0\n1          0   7986     5.0\n2          0   7987     5.0\n3          0   7988     5.0\n4          0   7989     3.0\n...      ...    ...     ...\n273974  7967  15068     2.0\n273975  7967   8072     3.0\n273976  7967  20443     2.0\n273977  7967  23673     5.0\n273978  7967  24399     5.0\n\n[273979 rows x 3 columns]",
      "text/html": "<div>\n<style scoped>\n    .dataframe tbody tr th:only-of-type {\n        vertical-align: middle;\n    }\n\n    .dataframe tbody tr th {\n        vertical-align: top;\n    }\n\n    .dataframe thead th {\n        text-align: right;\n    }\n</style>\n<table border=\"1\" class=\"dataframe\">\n  <thead>\n    <tr style=\"text-align: right;\">\n      <th></th>\n      <th>user</th>\n      <th>item</th>\n      <th>rating</th>\n    </tr>\n  </thead>\n  <tbody>\n    <tr>\n      <th>0</th>\n      <td>0</td>\n      <td>7985</td>\n      <td>2.0</td>\n    </tr>\n    <tr>\n      <th>1</th>\n      <td>0</td>\n      <td>7986</td>\n      <td>5.0</td>\n    </tr>\n    <tr>\n      <th>2</th>\n      <td>0</td>\n      <td>7987</td>\n      <td>5.0</td>\n    </tr>\n    <tr>\n      <th>3</th>\n      <td>0</td>\n      <td>7988</td>\n      <td>5.0</td>\n    </tr>\n    <tr>\n      <th>4</th>\n      <td>0</td>\n      <td>7989</td>\n      <td>3.0</td>\n    </tr>\n    <tr>\n      <th>...</th>\n      <td>...</td>\n      <td>...</td>\n      <td>...</td>\n    </tr>\n    <tr>\n      <th>273974</th>\n      <td>7967</td>\n      <td>15068</td>\n      <td>2.0</td>\n    </tr>\n    <tr>\n      <th>273975</th>\n      <td>7967</td>\n      <td>8072</td>\n      <td>3.0</td>\n    </tr>\n    <tr>\n      <th>273976</th>\n      <td>7967</td>\n      <td>20443</td>\n      <td>2.0</td>\n    </tr>\n    <tr>\n      <th>273977</th>\n      <td>7967</td>\n      <td>23673</td>\n      <td>5.0</td>\n    </tr>\n    <tr>\n      <th>273978</th>\n      <td>7967</td>\n      <td>24399</td>\n      <td>5.0</td>\n    </tr>\n  </tbody>\n</table>\n<p>273979 rows × 3 columns</p>\n</div>"
     },
     "execution_count": 104,
     "metadata": {},
     "output_type": "execute_result"
    }
   ],
   "source": [
    "new_rating_df['item'] = new_rating_df['item'].apply(lambda x: item_raw_idx2new_idx[x])\n",
    "new_rating_df"
   ],
   "metadata": {
    "collapsed": false,
    "pycharm": {
     "name": "#%%\n"
    }
   }
  },
  {
   "cell_type": "code",
   "execution_count": 107,
   "outputs": [],
   "source": [
    "new_rating_df.to_csv('./data/rating_data.csv', index=False, header=True)"
   ],
   "metadata": {
    "collapsed": false,
    "pycharm": {
     "name": "#%%\n"
    }
   }
  },
  {
   "cell_type": "code",
   "execution_count": 109,
   "outputs": [
    {
     "data": {
      "text/plain": "        user1  user2  weight\n0        2824   2696     1.0\n1        2824  18333     1.0\n2        2824  10308     1.0\n3        2824   1176     1.0\n4        2824    208     1.0\n...       ...    ...     ...\n303308    615   1294     1.0\n303309    615   1096     1.0\n303310    615    145     1.0\n303311    615   1499     1.0\n303312    615    330     1.0\n\n[303313 rows x 3 columns]",
      "text/html": "<div>\n<style scoped>\n    .dataframe tbody tr th:only-of-type {\n        vertical-align: middle;\n    }\n\n    .dataframe tbody tr th {\n        vertical-align: top;\n    }\n\n    .dataframe thead th {\n        text-align: right;\n    }\n</style>\n<table border=\"1\" class=\"dataframe\">\n  <thead>\n    <tr style=\"text-align: right;\">\n      <th></th>\n      <th>user1</th>\n      <th>user2</th>\n      <th>weight</th>\n    </tr>\n  </thead>\n  <tbody>\n    <tr>\n      <th>0</th>\n      <td>2824</td>\n      <td>2696</td>\n      <td>1.0</td>\n    </tr>\n    <tr>\n      <th>1</th>\n      <td>2824</td>\n      <td>18333</td>\n      <td>1.0</td>\n    </tr>\n    <tr>\n      <th>2</th>\n      <td>2824</td>\n      <td>10308</td>\n      <td>1.0</td>\n    </tr>\n    <tr>\n      <th>3</th>\n      <td>2824</td>\n      <td>1176</td>\n      <td>1.0</td>\n    </tr>\n    <tr>\n      <th>4</th>\n      <td>2824</td>\n      <td>208</td>\n      <td>1.0</td>\n    </tr>\n    <tr>\n      <th>...</th>\n      <td>...</td>\n      <td>...</td>\n      <td>...</td>\n    </tr>\n    <tr>\n      <th>303308</th>\n      <td>615</td>\n      <td>1294</td>\n      <td>1.0</td>\n    </tr>\n    <tr>\n      <th>303309</th>\n      <td>615</td>\n      <td>1096</td>\n      <td>1.0</td>\n    </tr>\n    <tr>\n      <th>303310</th>\n      <td>615</td>\n      <td>145</td>\n      <td>1.0</td>\n    </tr>\n    <tr>\n      <th>303311</th>\n      <td>615</td>\n      <td>1499</td>\n      <td>1.0</td>\n    </tr>\n    <tr>\n      <th>303312</th>\n      <td>615</td>\n      <td>330</td>\n      <td>1.0</td>\n    </tr>\n  </tbody>\n</table>\n<p>303313 rows × 3 columns</p>\n</div>"
     },
     "execution_count": 109,
     "metadata": {},
     "output_type": "execute_result"
    }
   ],
   "source": [
    "new_link_df = link_df.copy()\n",
    "new_link_df"
   ],
   "metadata": {
    "collapsed": false,
    "pycharm": {
     "name": "#%%\n"
    }
   }
  },
  {
   "cell_type": "code",
   "execution_count": 110,
   "outputs": [
    {
     "data": {
      "text/plain": "        user1  user2  weight\n0        2178   2696     1.0\n1        2178  18333     1.0\n2        2178  10308     1.0\n3        2178   1176     1.0\n4        2178    208     1.0\n...       ...    ...     ...\n303308    497   1294     1.0\n303309    497   1096     1.0\n303310    497    145     1.0\n303311    497   1499     1.0\n303312    497    330     1.0\n\n[303313 rows x 3 columns]",
      "text/html": "<div>\n<style scoped>\n    .dataframe tbody tr th:only-of-type {\n        vertical-align: middle;\n    }\n\n    .dataframe tbody tr th {\n        vertical-align: top;\n    }\n\n    .dataframe thead th {\n        text-align: right;\n    }\n</style>\n<table border=\"1\" class=\"dataframe\">\n  <thead>\n    <tr style=\"text-align: right;\">\n      <th></th>\n      <th>user1</th>\n      <th>user2</th>\n      <th>weight</th>\n    </tr>\n  </thead>\n  <tbody>\n    <tr>\n      <th>0</th>\n      <td>2178</td>\n      <td>2696</td>\n      <td>1.0</td>\n    </tr>\n    <tr>\n      <th>1</th>\n      <td>2178</td>\n      <td>18333</td>\n      <td>1.0</td>\n    </tr>\n    <tr>\n      <th>2</th>\n      <td>2178</td>\n      <td>10308</td>\n      <td>1.0</td>\n    </tr>\n    <tr>\n      <th>3</th>\n      <td>2178</td>\n      <td>1176</td>\n      <td>1.0</td>\n    </tr>\n    <tr>\n      <th>4</th>\n      <td>2178</td>\n      <td>208</td>\n      <td>1.0</td>\n    </tr>\n    <tr>\n      <th>...</th>\n      <td>...</td>\n      <td>...</td>\n      <td>...</td>\n    </tr>\n    <tr>\n      <th>303308</th>\n      <td>497</td>\n      <td>1294</td>\n      <td>1.0</td>\n    </tr>\n    <tr>\n      <th>303309</th>\n      <td>497</td>\n      <td>1096</td>\n      <td>1.0</td>\n    </tr>\n    <tr>\n      <th>303310</th>\n      <td>497</td>\n      <td>145</td>\n      <td>1.0</td>\n    </tr>\n    <tr>\n      <th>303311</th>\n      <td>497</td>\n      <td>1499</td>\n      <td>1.0</td>\n    </tr>\n    <tr>\n      <th>303312</th>\n      <td>497</td>\n      <td>330</td>\n      <td>1.0</td>\n    </tr>\n  </tbody>\n</table>\n<p>303313 rows × 3 columns</p>\n</div>"
     },
     "execution_count": 110,
     "metadata": {},
     "output_type": "execute_result"
    }
   ],
   "source": [
    "new_link_df['user1'] = new_link_df['user1'].apply(lambda x: user_raw_idx2new_idx[x])\n",
    "new_link_df"
   ],
   "metadata": {
    "collapsed": false,
    "pycharm": {
     "name": "#%%\n"
    }
   }
  },
  {
   "cell_type": "code",
   "execution_count": 111,
   "outputs": [
    {
     "data": {
      "text/plain": "        user1  user2  weight\n0        2178   2094     1.0\n1        2178   6986     1.0\n2        2178   5403     1.0\n3        2178    998     1.0\n4        2178    160     1.0\n...       ...    ...     ...\n303308    497   1088     1.0\n303309    497    928     1.0\n303310    497    107     1.0\n303311    497   1221     1.0\n303312    497    267     1.0\n\n[303313 rows x 3 columns]",
      "text/html": "<div>\n<style scoped>\n    .dataframe tbody tr th:only-of-type {\n        vertical-align: middle;\n    }\n\n    .dataframe tbody tr th {\n        vertical-align: top;\n    }\n\n    .dataframe thead th {\n        text-align: right;\n    }\n</style>\n<table border=\"1\" class=\"dataframe\">\n  <thead>\n    <tr style=\"text-align: right;\">\n      <th></th>\n      <th>user1</th>\n      <th>user2</th>\n      <th>weight</th>\n    </tr>\n  </thead>\n  <tbody>\n    <tr>\n      <th>0</th>\n      <td>2178</td>\n      <td>2094</td>\n      <td>1.0</td>\n    </tr>\n    <tr>\n      <th>1</th>\n      <td>2178</td>\n      <td>6986</td>\n      <td>1.0</td>\n    </tr>\n    <tr>\n      <th>2</th>\n      <td>2178</td>\n      <td>5403</td>\n      <td>1.0</td>\n    </tr>\n    <tr>\n      <th>3</th>\n      <td>2178</td>\n      <td>998</td>\n      <td>1.0</td>\n    </tr>\n    <tr>\n      <th>4</th>\n      <td>2178</td>\n      <td>160</td>\n      <td>1.0</td>\n    </tr>\n    <tr>\n      <th>...</th>\n      <td>...</td>\n      <td>...</td>\n      <td>...</td>\n    </tr>\n    <tr>\n      <th>303308</th>\n      <td>497</td>\n      <td>1088</td>\n      <td>1.0</td>\n    </tr>\n    <tr>\n      <th>303309</th>\n      <td>497</td>\n      <td>928</td>\n      <td>1.0</td>\n    </tr>\n    <tr>\n      <th>303310</th>\n      <td>497</td>\n      <td>107</td>\n      <td>1.0</td>\n    </tr>\n    <tr>\n      <th>303311</th>\n      <td>497</td>\n      <td>1221</td>\n      <td>1.0</td>\n    </tr>\n    <tr>\n      <th>303312</th>\n      <td>497</td>\n      <td>267</td>\n      <td>1.0</td>\n    </tr>\n  </tbody>\n</table>\n<p>303313 rows × 3 columns</p>\n</div>"
     },
     "execution_count": 111,
     "metadata": {},
     "output_type": "execute_result"
    }
   ],
   "source": [
    "new_link_df['user2'] = new_link_df['user2'].apply(lambda x: user_raw_idx2new_idx[x])\n",
    "new_link_df"
   ],
   "metadata": {
    "collapsed": false,
    "pycharm": {
     "name": "#%%\n"
    }
   }
  },
  {
   "cell_type": "code",
   "execution_count": 114,
   "outputs": [],
   "source": [
    "new_link_df.to_csv('./data/link_data.csv', index=False, header=True)"
   ],
   "metadata": {
    "collapsed": false,
    "pycharm": {
     "name": "#%%\n"
    }
   }
  }
 ],
 "metadata": {
  "kernelspec": {
   "display_name": "Python 3",
   "language": "python",
   "name": "python3"
  },
  "language_info": {
   "codemirror_mode": {
    "name": "ipython",
    "version": 2
   },
   "file_extension": ".py",
   "mimetype": "text/x-python",
   "name": "python",
   "nbconvert_exporter": "python",
   "pygments_lexer": "ipython2",
   "version": "2.7.6"
  }
 },
 "nbformat": 4,
 "nbformat_minor": 0
}