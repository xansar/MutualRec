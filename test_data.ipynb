{
 "cells": [
  {
   "cell_type": "code",
   "execution_count": 2,
   "metadata": {
    "collapsed": true
   },
   "outputs": [],
   "source": [
    "import dgl\n",
    "import torch\n",
    "import torch.nn as nn\n",
    "import torch.nn.functional as F\n",
    "import itertools\n",
    "import numpy as np\n",
    "import scipy.sparse as sp\n",
    "import pandas as pd"
   ]
  },
  {
   "cell_type": "code",
   "execution_count": 3,
   "outputs": [
    {
     "data": {
      "text/plain": "         user   item  rating\n0           0  12789     2.0\n1           0  12790     5.0\n2           0  12791     5.0\n3           0  12792     5.0\n4           0  12793     5.0\n...       ...    ...     ...\n356662  12770  19494     5.0\n356663  12770  14287     5.0\n356664  12770  31360     5.0\n356665  12770  15691     5.0\n356666  12770  33555     5.0\n\n[356667 rows x 3 columns]",
      "text/html": "<div>\n<style scoped>\n    .dataframe tbody tr th:only-of-type {\n        vertical-align: middle;\n    }\n\n    .dataframe tbody tr th {\n        vertical-align: top;\n    }\n\n    .dataframe thead th {\n        text-align: right;\n    }\n</style>\n<table border=\"1\" class=\"dataframe\">\n  <thead>\n    <tr style=\"text-align: right;\">\n      <th></th>\n      <th>user</th>\n      <th>item</th>\n      <th>rating</th>\n    </tr>\n  </thead>\n  <tbody>\n    <tr>\n      <th>0</th>\n      <td>0</td>\n      <td>12789</td>\n      <td>2.0</td>\n    </tr>\n    <tr>\n      <th>1</th>\n      <td>0</td>\n      <td>12790</td>\n      <td>5.0</td>\n    </tr>\n    <tr>\n      <th>2</th>\n      <td>0</td>\n      <td>12791</td>\n      <td>5.0</td>\n    </tr>\n    <tr>\n      <th>3</th>\n      <td>0</td>\n      <td>12792</td>\n      <td>5.0</td>\n    </tr>\n    <tr>\n      <th>4</th>\n      <td>0</td>\n      <td>12793</td>\n      <td>5.0</td>\n    </tr>\n    <tr>\n      <th>...</th>\n      <td>...</td>\n      <td>...</td>\n      <td>...</td>\n    </tr>\n    <tr>\n      <th>356662</th>\n      <td>12770</td>\n      <td>19494</td>\n      <td>5.0</td>\n    </tr>\n    <tr>\n      <th>356663</th>\n      <td>12770</td>\n      <td>14287</td>\n      <td>5.0</td>\n    </tr>\n    <tr>\n      <th>356664</th>\n      <td>12770</td>\n      <td>31360</td>\n      <td>5.0</td>\n    </tr>\n    <tr>\n      <th>356665</th>\n      <td>12770</td>\n      <td>15691</td>\n      <td>5.0</td>\n    </tr>\n    <tr>\n      <th>356666</th>\n      <td>12770</td>\n      <td>33555</td>\n      <td>5.0</td>\n    </tr>\n  </tbody>\n</table>\n<p>356667 rows × 3 columns</p>\n</div>"
     },
     "execution_count": 3,
     "metadata": {},
     "output_type": "execute_result"
    }
   ],
   "source": [
    "rating_df = pd.read_csv('./data/rating_data.csv')\n",
    "rating_df"
   ],
   "metadata": {
    "collapsed": false,
    "pycharm": {
     "name": "#%%\n"
    }
   }
  },
  {
   "cell_type": "code",
   "execution_count": 4,
   "outputs": [
    {
     "data": {
      "text/plain": "Graph(num_nodes=35914, num_edges=356667,\n      ndata_schemes={}\n      edata_schemes={})"
     },
     "execution_count": 4,
     "metadata": {},
     "output_type": "execute_result"
    }
   ],
   "source": [
    "u = rating_df['user'].values\n",
    "i = rating_df['item'].values\n",
    "g = dgl.graph((u, i))\n",
    "g"
   ],
   "metadata": {
    "collapsed": false,
    "pycharm": {
     "name": "#%%\n"
    }
   }
  },
  {
   "cell_type": "code",
   "execution_count": 38,
   "outputs": [
    {
     "data": {
      "text/plain": "dgl.heterograph.DGLHeteroGraph"
     },
     "execution_count": 38,
     "metadata": {},
     "output_type": "execute_result"
    }
   ],
   "source": [
    "type(g)"
   ],
   "metadata": {
    "collapsed": false,
    "pycharm": {
     "name": "#%%\n"
    }
   }
  },
  {
   "cell_type": "code",
   "execution_count": 39,
   "outputs": [
    {
     "data": {
      "text/plain": "tensor([    0,     1,     2,  ..., 35911, 35912, 35913])"
     },
     "execution_count": 39,
     "metadata": {},
     "output_type": "execute_result"
    }
   ],
   "source": [
    "g.nodes()"
   ],
   "metadata": {
    "collapsed": false,
    "pycharm": {
     "name": "#%%\n"
    }
   }
  },
  {
   "cell_type": "code",
   "execution_count": 40,
   "outputs": [
    {
     "data": {
      "text/plain": "(tensor([    0,     0,     0,  ..., 12770, 12770, 12770]),\n tensor([12789, 12790, 12791,  ..., 31360, 15691, 33555]))"
     },
     "execution_count": 40,
     "metadata": {},
     "output_type": "execute_result"
    }
   ],
   "source": [
    "g.edges()"
   ],
   "metadata": {
    "collapsed": false,
    "pycharm": {
     "name": "#%%\n"
    }
   }
  },
  {
   "cell_type": "code",
   "execution_count": 42,
   "outputs": [
    {
     "data": {
      "text/plain": "dgl.heterograph.DGLHeteroGraph"
     },
     "execution_count": 42,
     "metadata": {},
     "output_type": "execute_result"
    }
   ],
   "source": [
    "type(g)"
   ],
   "metadata": {
    "collapsed": false,
    "pycharm": {
     "name": "#%%\n"
    }
   }
  },
  {
   "cell_type": "code",
   "execution_count": 45,
   "outputs": [
    {
     "data": {
      "text/plain": "Graph(num_nodes=35914, num_edges=713334,\n      ndata_schemes={}\n      edata_schemes={})"
     },
     "execution_count": 45,
     "metadata": {},
     "output_type": "execute_result"
    }
   ],
   "source": [
    "G = dgl.to_bidirected(g)\n",
    "G"
   ],
   "metadata": {
    "collapsed": false,
    "pycharm": {
     "name": "#%%\n"
    }
   }
  },
  {
   "cell_type": "code",
   "execution_count": 48,
   "outputs": [
    {
     "data": {
      "text/plain": "35914"
     },
     "execution_count": 48,
     "metadata": {},
     "output_type": "execute_result"
    }
   ],
   "source": [
    "G.number_of_nodes()"
   ],
   "metadata": {
    "collapsed": false,
    "pycharm": {
     "name": "#%%\n"
    }
   }
  },
  {
   "cell_type": "code",
   "execution_count": 50,
   "outputs": [
    {
     "data": {
      "text/plain": "{'feature': tensor([[-1.3591,  0.7882,  1.3617,  ..., -0.8448,  0.4306,  0.6892],\n        [ 1.2128, -0.7209, -0.6470,  ..., -1.2631,  0.2141, -0.5701],\n        [ 0.2180,  0.5105, -0.6881,  ...,  0.2324,  1.6044,  0.2483],\n        ...,\n        [ 0.6904,  0.3798, -1.0947,  ..., -0.5926, -1.3826, -0.4642],\n        [-1.6314,  0.2743, -0.2968,  ..., -0.1462, -0.9196,  0.1446],\n        [-0.1339, -0.3456, -0.3229,  ..., -1.7770,  0.1777,  0.4236]])}"
     },
     "execution_count": 50,
     "metadata": {},
     "output_type": "execute_result"
    }
   ],
   "source": [
    "G.ndata['feature'] = torch.randn((G.number_of_nodes(), 10))\n",
    "G.ndata"
   ],
   "metadata": {
    "collapsed": false,
    "pycharm": {
     "name": "#%%\n"
    }
   }
  },
  {
   "cell_type": "code",
   "execution_count": 58,
   "outputs": [
    {
     "data": {
      "text/plain": "35914"
     },
     "execution_count": 58,
     "metadata": {},
     "output_type": "execute_result"
    }
   ],
   "source": [
    "g.ndata['feature'] = torch.randn((g.number_of_nodes(), 10))\n",
    "g.ndata['feature'].__len__()"
   ],
   "metadata": {
    "collapsed": false,
    "pycharm": {
     "name": "#%%\n"
    }
   }
  },
  {
   "cell_type": "code",
   "execution_count": 54,
   "outputs": [
    {
     "data": {
      "text/plain": "(tensor([    0,     0,     0,  ..., 12770, 12770, 12770]),\n tensor([12789, 12790, 12791,  ..., 31360, 15691, 33555]))"
     },
     "execution_count": 54,
     "metadata": {},
     "output_type": "execute_result"
    }
   ],
   "source": [
    "u, v = g.edges()\n",
    "u, v"
   ],
   "metadata": {
    "collapsed": false,
    "pycharm": {
     "name": "#%%\n"
    }
   }
  },
  {
   "cell_type": "code",
   "execution_count": 12,
   "outputs": [
    {
     "data": {
      "text/plain": "GraphConv(in=10, out=5, normalization=both, activation=None)"
     },
     "execution_count": 12,
     "metadata": {},
     "output_type": "execute_result"
    }
   ],
   "source": [
    "import dgl.nn.pytorch as dglnn\n",
    "conv = dglnn.GraphConv(10, 5, weight=True, bias=True,allow_zero_in_degree=True)\n",
    "conv"
   ],
   "metadata": {
    "collapsed": false,
    "pycharm": {
     "name": "#%%\n"
    }
   }
  },
  {
   "cell_type": "code",
   "execution_count": 86,
   "outputs": [
    {
     "data": {
      "text/plain": "(tensor([    0,     0,     0,  ..., 12770, 12770, 12770]),\n torch.Size([356667]))"
     },
     "execution_count": 86,
     "metadata": {},
     "output_type": "execute_result"
    }
   ],
   "source": [
    "u"
   ],
   "metadata": {
    "collapsed": false,
    "pycharm": {
     "name": "#%%\n"
    }
   }
  },
  {
   "cell_type": "code",
   "execution_count": 89,
   "outputs": [
    {
     "data": {
      "text/plain": "(tensor([    0,     1,     2,  ..., 35911, 35912, 35913]), torch.Size([35914]))"
     },
     "execution_count": 89,
     "metadata": {},
     "output_type": "execute_result"
    }
   ],
   "source": [
    "g.nodes(), g.nodes().shape"
   ],
   "metadata": {
    "collapsed": false,
    "pycharm": {
     "name": "#%%\n"
    }
   }
  },
  {
   "cell_type": "code",
   "execution_count": 71,
   "outputs": [
    {
     "data": {
      "text/plain": "tensor(23143)"
     },
     "execution_count": 71,
     "metadata": {},
     "output_type": "execute_result"
    }
   ],
   "source": [
    "(g.in_degrees() != 0).sum()"
   ],
   "metadata": {
    "collapsed": false,
    "pycharm": {
     "name": "#%%\n"
    }
   }
  },
  {
   "cell_type": "code",
   "execution_count": 72,
   "outputs": [
    {
     "data": {
      "text/plain": "tensor(12771)"
     },
     "execution_count": 72,
     "metadata": {},
     "output_type": "execute_result"
    }
   ],
   "source": [
    "\n",
    "(g.out_degrees() != 0).sum()"
   ],
   "metadata": {
    "collapsed": false,
    "pycharm": {
     "name": "#%%\n"
    }
   }
  },
  {
   "cell_type": "code",
   "execution_count": null,
   "outputs": [],
   "source": [
    "h = conv(G, G.ndata['feature'])\n",
    "h,h.shape"
   ],
   "metadata": {
    "collapsed": false,
    "pycharm": {
     "name": "#%%\n"
    }
   }
  },
  {
   "cell_type": "code",
   "execution_count": 5,
   "outputs": [],
   "source": [
    "u1 = torch.tensor([0, 0, 1, 2, 3, 3, 4])\n",
    "i = torch.tensor([0, 1, 1, 2, 2, 3, 3])\n",
    "u2 = torch.tensor([1, 2, 3, 4, 0, 2, 0])\n",
    "social_u = torch.cat([u1, u2])\n",
    "social_v = torch.cat([u2, u1])\n",
    "graph_data = {\n",
    "    ('user', 'rate', 'item'): (u1, i),\n",
    "    ('item', 'rated', 'user'): (i, u1),\n",
    "    ('user', 'friend', 'user'): (social_u, social_v)\n",
    "}\n",
    "g = dgl.heterograph(graph_data)"
   ],
   "metadata": {
    "collapsed": false,
    "pycharm": {
     "name": "#%%\n"
    }
   }
  },
  {
   "cell_type": "code",
   "execution_count": 6,
   "outputs": [
    {
     "data": {
      "text/plain": "(tensor([0, 1, 2, 3, 4]), tensor([0, 1, 2, 3]))"
     },
     "execution_count": 6,
     "metadata": {},
     "output_type": "execute_result"
    }
   ],
   "source": [
    "g.nodes('user'), g.nodes('item')"
   ],
   "metadata": {
    "collapsed": false,
    "pycharm": {
     "name": "#%%\n"
    }
   }
  },
  {
   "cell_type": "code",
   "execution_count": 7,
   "outputs": [
    {
     "data": {
      "text/plain": "5"
     },
     "execution_count": 7,
     "metadata": {},
     "output_type": "execute_result"
    }
   ],
   "source": [
    "g.num_nodes('user')"
   ],
   "metadata": {
    "collapsed": false,
    "pycharm": {
     "name": "#%%\n"
    }
   }
  },
  {
   "cell_type": "code",
   "execution_count": 8,
   "outputs": [
    {
     "data": {
      "text/plain": "5"
     },
     "execution_count": 8,
     "metadata": {},
     "output_type": "execute_result"
    }
   ],
   "source": [
    "g.number_of_nodes('user')"
   ],
   "metadata": {
    "collapsed": false,
    "pycharm": {
     "name": "#%%\n"
    }
   }
  },
  {
   "cell_type": "code",
   "execution_count": 23,
   "outputs": [
    {
     "data": {
      "text/plain": "tensor([[0, 1],\n        [2, 3],\n        [4, 5],\n        [6, 7],\n        [8, 9]])"
     },
     "execution_count": 23,
     "metadata": {},
     "output_type": "execute_result"
    }
   ],
   "source": [
    "embedding_size = 2\n",
    "torch.arange(g.number_of_nodes('user') * 2).reshape(-1, embedding_size)"
   ],
   "metadata": {
    "collapsed": false,
    "pycharm": {
     "name": "#%%\n"
    }
   }
  },
  {
   "cell_type": "code",
   "execution_count": 26,
   "outputs": [
    {
     "data": {
      "text/plain": "(tensor([[0., 1.],\n         [2., 3.],\n         [4., 5.],\n         [6., 7.],\n         [8., 9.]]),\n tensor([[0., 1.],\n         [2., 3.],\n         [4., 5.],\n         [6., 7.]]))"
     },
     "execution_count": 26,
     "metadata": {},
     "output_type": "execute_result"
    }
   ],
   "source": [
    "embedding_size = 2\n",
    "u_feat = torch.arange(g.number_of_nodes('user') * 2, dtype=torch.float).reshape(-1, embedding_size)\n",
    "i_feat = torch.arange(g.number_of_nodes('item') * 2, dtype=torch.float).reshape(-1, embedding_size)\n",
    "u_feat, i_feat"
   ],
   "metadata": {
    "collapsed": false,
    "pycharm": {
     "name": "#%%\n"
    }
   }
  },
  {
   "cell_type": "code",
   "execution_count": 27,
   "outputs": [
    {
     "data": {
      "text/plain": "(NodeSpace(data={'feat': tensor([[0., 1.],\n         [2., 3.],\n         [4., 5.],\n         [6., 7.],\n         [8., 9.]])}),\n NodeSpace(data={'feat': tensor([[0., 1.],\n         [2., 3.],\n         [4., 5.],\n         [6., 7.]])}))"
     },
     "execution_count": 27,
     "metadata": {},
     "output_type": "execute_result"
    }
   ],
   "source": [
    "g.nodes['user'].data['feat'] = u_feat\n",
    "g.nodes['item'].data['feat'] = i_feat\n",
    "g.nodes['user'], g.nodes['item']"
   ],
   "metadata": {
    "collapsed": false,
    "pycharm": {
     "name": "#%%\n"
    }
   }
  },
  {
   "cell_type": "code",
   "execution_count": 30,
   "outputs": [],
   "source": [
    "hetero_conv = dglnn.HeteroGraphConv({\n",
    "    'rate': dglnn.GraphConv(2, 1),\n",
    "    'rated': dglnn.GraphConv(2, 1),\n",
    "    'friend': dglnn.GraphConv(2, 1),\n",
    "},aggregate='sum')"
   ],
   "metadata": {
    "collapsed": false,
    "pycharm": {
     "name": "#%%\n"
    }
   }
  },
  {
   "cell_type": "code",
   "execution_count": 31,
   "outputs": [
    {
     "data": {
      "text/plain": "{'item': tensor([[-0.2772],\n         [-1.8345],\n         [-6.0837],\n         [-8.8064]], grad_fn=<SumBackward1>),\n 'user': tensor([[ 4.7661],\n         [ 4.5242],\n         [ 8.0422],\n         [12.9272],\n         [10.7382]], grad_fn=<SumBackward1>)}"
     },
     "execution_count": 31,
     "metadata": {},
     "output_type": "execute_result"
    }
   ],
   "source": [
    "f1 = {'user': g.nodes['user'].data['feat'], 'item': g.nodes['item'].data['feat']}\n",
    "h = hetero_conv(g, f1)\n",
    "h"
   ],
   "metadata": {
    "collapsed": false,
    "pycharm": {
     "name": "#%%\n"
    }
   }
  },
  {
   "cell_type": "code",
   "execution_count": 19,
   "outputs": [
    {
     "data": {
      "text/plain": "{'item': tensor([[-1.1357, -0.5318,  0.3137,  0.6778,  0.0732, -0.2691,  0.0968,  0.1155,\n          -0.3612,  0.4361],\n         [-1.1014, -0.2654,  0.6500,  0.5481,  0.1637, -0.2777, -0.2936,  0.3639,\n          -0.4927,  0.3998],\n         [-0.9510, -0.1286,  0.5141, -0.0957, -0.2745, -0.1442, -0.1466,  0.3496,\n          -0.4195,  0.6651],\n         [-0.4313,  0.6137, -0.0250, -0.7428, -0.4775, -0.2846,  0.5751, -0.3867,\n          -0.1668,  0.6979]], grad_fn=<MeanBackward1>),\n 'user': tensor([[ 0.6444, -0.2259,  0.1939, -0.2623, -0.0967,  0.0060, -0.2984, -0.2726,\n          -0.1794, -0.0780],\n         [ 0.3270,  0.0486,  0.1125,  0.2078,  0.0197, -0.1133, -0.2519, -0.2449,\n          -0.1267, -0.0035],\n         [ 0.1137,  0.0672, -0.1859, -0.8432,  0.5712,  0.0975, -0.6889, -0.2168,\n          -0.4625, -1.3323],\n         [ 0.0180,  0.2996,  0.0924, -0.4162,  0.3819, -0.0808, -0.4965, -0.7213,\n          -0.4698, -1.1969],\n         [-0.1059,  0.0320,  0.3418,  0.0664,  0.0850, -0.3383, -0.0229, -0.8068,\n          -0.4321, -0.3888]], grad_fn=<MeanBackward1>)}"
     },
     "execution_count": 19,
     "metadata": {},
     "output_type": "execute_result"
    }
   ],
   "source": [
    "h2 = hetero_conv(g, h)\n",
    "h2"
   ],
   "metadata": {
    "collapsed": false,
    "pycharm": {
     "name": "#%%\n"
    }
   }
  },
  {
   "cell_type": "code",
   "execution_count": 63,
   "outputs": [],
   "source": [
    "def agg_func(tensors, dsttype):\n",
    "    print(tensors, dsttype)\n",
    "    if dsttype == 'user':\n",
    "        return tensors[0]\n",
    "    else:\n",
    "        return tensors[0]\n",
    "\n",
    "test_conv = dglnn.HeteroGraphConv({\n",
    "    'rate': dglnn.GraphConv(2, 2, weight=False, bias=False),\n",
    "    'rated': dglnn.GraphConv(2, 2, weight=False, bias=False),\n",
    "    'friend': dglnn.GraphConv(2, 2, weight=False, bias=False),\n",
    "}, aggregate=agg_func)"
   ],
   "metadata": {
    "collapsed": false,
    "pycharm": {
     "name": "#%%\n"
    }
   }
  },
  {
   "cell_type": "code",
   "execution_count": 71,
   "outputs": [
    {
     "name": "stdout",
     "output_type": "stream",
     "text": [
      "[tensor([[1.0000, 2.2071],\n",
      "        [1.4142, 2.1213],\n",
      "        [2.8284, 3.5355],\n",
      "        [5.0000, 6.0000],\n",
      "        [4.2426, 4.9497]])] user\n",
      "[tensor([[0.0000, 0.7071],\n",
      "        [1.4142, 2.6213],\n",
      "        [5.8284, 7.0355],\n",
      "        [8.6569, 9.8640]])] item\n"
     ]
    },
    {
     "data": {
      "text/plain": "({'user': tensor([[1.0000, 2.2071],\n          [1.4142, 2.1213],\n          [2.8284, 3.5355],\n          [5.0000, 6.0000],\n          [4.2426, 4.9497]])},\n {'item': tensor([[0.0000, 0.7071],\n          [1.4142, 2.6213],\n          [5.8284, 7.0355],\n          [8.6569, 9.8640]])})"
     },
     "execution_count": 71,
     "metadata": {},
     "output_type": "execute_result"
    }
   ],
   "source": [
    "i = {'item': g.nodes['item'].data['feat']}\n",
    "u = {'user': g.nodes['user'].data['feat']}\n",
    "u1 = test_conv(g, (i, u))\n",
    "i1 = test_conv(g, (u, i))\n",
    "u1, i1\n",
    "# h2 = test_conv(g, h1)\n",
    "# h2"
   ],
   "metadata": {
    "collapsed": false,
    "pycharm": {
     "name": "#%%\n"
    }
   }
  },
  {
   "cell_type": "code",
   "execution_count": 68,
   "outputs": [
    {
     "data": {
      "text/plain": "tensor([[-0.3489,  0.3558],\n        [-0.0841, -0.6679],\n        [ 0.5668,  0.8656],\n        [ 0.5264,  0.3434]], grad_fn=<AddmmBackward0>)"
     },
     "execution_count": 68,
     "metadata": {},
     "output_type": "execute_result"
    }
   ],
   "source": [
    "mlp = nn.Linear(4, 2)\n",
    "a = torch.randn(4, 4)\n",
    "mlp(a)"
   ],
   "metadata": {
    "collapsed": false,
    "pycharm": {
     "name": "#%%\n"
    }
   }
  },
  {
   "cell_type": "code",
   "execution_count": 65,
   "outputs": [],
   "source": [
    "mlp = nn.Linear(4, 2)\n",
    "def agg_func_1(tensors, dsttype):\n",
    "    print(tensors, dsttype)\n",
    "    if dsttype == 'user':\n",
    "        tmp = torch.hstack(tensors)\n",
    "        return mlp(tmp)\n",
    "    else:\n",
    "        raise ValueError('Wrong DstType!!!')\n",
    "\n",
    "test_conv2 = dglnn.HeteroGraphConv({\n",
    "    'rate': dglnn.GraphConv(2, 2, weight=False, bias=False),\n",
    "    'rated': dglnn.GraphConv(2, 2, weight=False, bias=False),\n",
    "    'friend': dglnn.GraphConv(2, 2, weight=False, bias=False),\n",
    "}, aggregate=agg_func_1)"
   ],
   "metadata": {
    "collapsed": false,
    "pycharm": {
     "name": "#%%\n"
    }
   }
  },
  {
   "cell_type": "code",
   "execution_count": 70,
   "outputs": [
    {
     "name": "stdout",
     "output_type": "stream",
     "text": [
      "[tensor([[0.7071, 1.8107],\n",
      "        [1.0000, 1.8536],\n",
      "        [4.1213, 4.9749],\n",
      "        [7.2426, 8.4497],\n",
      "        [6.1213, 6.9749]]), tensor([[4.2599, 5.2527],\n",
      "        [2.3948, 3.2298],\n",
      "        [3.6874, 4.6579],\n",
      "        [1.8088, 2.6817],\n",
      "        [1.5083, 2.2237]])] user\n"
     ]
    },
    {
     "data": {
      "text/plain": "{'user': tensor([[0.7071, 1.8107],\n         [1.0000, 1.8536],\n         [4.1213, 4.9749],\n         [7.2426, 8.4497],\n         [6.1213, 6.9749]])}"
     },
     "execution_count": 70,
     "metadata": {},
     "output_type": "execute_result"
    }
   ],
   "source": [
    "rsc = {'user': u1['user'], 'item': i1['item']}\n",
    "dst = {'user': u1['user']}\n",
    "u1 = test_conv2(g, (rsc, dst))\n",
    "u1"
   ],
   "metadata": {
    "collapsed": false,
    "pycharm": {
     "name": "#%%\n"
    }
   }
  },
  {
   "cell_type": "code",
   "execution_count": 154,
   "outputs": [
    {
     "data": {
      "text/plain": "<Figure size 640x480 with 1 Axes>",
      "image/png": "[encoded data removed]"
     },
     "metadata": {},
     "output_type": "display_data"
    }
   ],
   "source": [
    "import networkx as nx\n",
    "import matplotlib.pyplot as plt\n",
    "nx.draw(dgl.to_homogeneous(g).to_networkx(), with_labels=True)\n",
    "plt.show()"
   ],
   "metadata": {
    "collapsed": false,
    "pycharm": {
     "name": "#%%\n"
    }
   }
  },
  {
   "cell_type": "code",
   "execution_count": 157,
   "outputs": [
    {
     "data": {
      "text/plain": "{'_ID': tensor([0, 1, 2, 3, 0, 1, 2, 3, 4]), '_TYPE': tensor([0, 0, 0, 0, 1, 1, 1, 1, 1])}"
     },
     "execution_count": 157,
     "metadata": {},
     "output_type": "execute_result"
    }
   ],
   "source": [
    "dgl.to_homogeneous(g).ndata"
   ],
   "metadata": {
    "collapsed": false,
    "pycharm": {
     "name": "#%%\n"
    }
   }
  },
  {
   "cell_type": "code",
   "execution_count": 158,
   "outputs": [
    {
     "data": {
      "text/plain": "{'_ID': tensor([ 0,  1,  2,  3,  4,  5,  6,  0,  1,  2,  3,  4,  5,  6,  7,  8,  9, 10,\n        11, 12, 13,  0,  1,  2,  3,  4,  5,  6]), '_TYPE': tensor([0, 0, 0, 0, 0, 0, 0, 1, 1, 1, 1, 1, 1, 1, 1, 1, 1, 1, 1, 1, 1, 2, 2, 2,\n        2, 2, 2, 2])}"
     },
     "execution_count": 158,
     "metadata": {},
     "output_type": "execute_result"
    }
   ],
   "source": [
    "dgl.to_homogeneous(g).edata"
   ],
   "metadata": {
    "collapsed": false,
    "pycharm": {
     "name": "#%%\n"
    }
   }
  },
  {
   "cell_type": "code",
   "execution_count": 155,
   "outputs": [
    {
     "data": {
      "text/plain": "(tensor([0, 1, 1, 2, 2, 3, 3, 4, 4, 5, 6, 7, 7, 8, 5, 6, 7, 8, 4, 6, 4, 4, 4, 5,\n         6, 7, 7, 8]),\n tensor([4, 4, 5, 6, 7, 7, 8, 5, 6, 7, 8, 4, 6, 4, 4, 4, 5, 6, 7, 7, 8, 0, 1, 1,\n         2, 2, 3, 3]))"
     },
     "execution_count": 155,
     "metadata": {},
     "output_type": "execute_result"
    }
   ],
   "source": [
    "dgl.to_homogeneous(g).edges()"
   ],
   "metadata": {
    "collapsed": false,
    "pycharm": {
     "name": "#%%\n"
    }
   }
  },
  {
   "cell_type": "code",
   "execution_count": 164,
   "outputs": [
    {
     "data": {
      "text/plain": "(tensor([[-1.3626,  1.2295,  0.1833, -0.3301,  1.2184, -0.9155,  0.3534, -1.3819,\n          -0.3655,  2.0767],\n         [ 0.8387,  0.7305,  0.0173,  0.9697, -0.0603,  1.1364,  1.6625, -0.3281,\n          -0.3580, -0.0627],\n         [-0.5409, -1.1335,  0.5510,  1.5634, -0.7772, -0.5340,  0.6385, -0.9435,\n          -0.7112, -0.4917],\n         [ 0.9065, -1.2236, -0.1256,  0.7899,  1.5102, -0.0177, -1.7075, -0.9670,\n           0.0923,  0.1513],\n         [-1.2779, -0.9226,  1.6277, -0.6378,  0.5067,  0.5687, -0.2115, -1.2798,\n           1.5252,  0.0067],\n         [ 0.3077, -0.3240, -0.6852,  1.6926, -1.2951,  1.3879,  0.5503, -0.1486,\n          -0.0811,  2.0101],\n         [ 0.2216,  1.0301,  0.2420,  1.0698, -0.2145, -0.5317, -0.1958,  0.8136,\n           1.0720, -0.4424],\n         [-0.0395,  1.3079, -1.0916, -0.2716,  1.1112, -0.6924, -1.1884, -0.2949,\n           0.9796, -0.5803],\n         [ 2.1415, -2.3012,  1.7676,  1.1618, -0.1146,  0.1136,  1.5060, -0.1088,\n           0.7253,  1.0259]]),\n torch.Size([9, 10]))"
     },
     "execution_count": 164,
     "metadata": {},
     "output_type": "execute_result"
    }
   ],
   "source": [
    "G = dgl.to_homogeneous(g, ndata=['feat'])\n",
    "G.ndata['feat'], G.ndata['feat'].shape"
   ],
   "metadata": {
    "collapsed": false,
    "pycharm": {
     "name": "#%%\n"
    }
   }
  },
  {
   "cell_type": "code",
   "execution_count": 165,
   "outputs": [
    {
     "data": {
      "text/plain": "tensor([[ 3.3386e-01, -5.2626e-01,  2.0961e-01,  7.1263e-02, -2.7464e-01],\n        [ 3.5958e-01, -2.6569e-04,  5.1686e-01, -1.8987e-01, -1.8596e-01],\n        [ 6.5542e-01, -7.2885e-01,  3.4133e-01,  4.8400e-01, -1.8278e-01],\n        [ 2.1736e-01, -2.4449e-01,  2.7024e-01,  2.0027e-01,  4.8628e-01],\n        [ 1.4340e+00,  1.0552e-01, -6.9705e-01, -2.0708e-01, -8.0298e-01],\n        [ 3.5023e-01, -2.9600e-01, -1.5737e-01, -5.8521e-02, -2.8541e-01],\n        [ 2.7351e-01, -7.8336e-01,  8.4595e-01,  3.1757e-01,  1.2777e-01],\n        [ 3.4492e-01, -8.0888e-01,  1.4450e+00,  2.5568e-01, -7.1913e-02],\n        [ 3.9887e-01, -9.4679e-01,  9.2937e-01,  3.6421e-01, -8.6233e-03]],\n       grad_fn=<AddBackward0>)"
     },
     "execution_count": 165,
     "metadata": {},
     "output_type": "execute_result"
    }
   ],
   "source": [
    "conv = dglnn.GraphConv(10, 5)\n",
    "h = conv(G, G.ndata['feat'])\n",
    "h"
   ],
   "metadata": {
    "collapsed": false,
    "pycharm": {
     "name": "#%%\n"
    }
   }
  },
  {
   "cell_type": "code",
   "execution_count": null,
   "outputs": [],
   "source": [],
   "metadata": {
    "collapsed": false,
    "pycharm": {
     "name": "#%%\n"
    }
   }
  }
 ],
 "metadata": {
  "kernelspec": {
   "display_name": "Python 3",
   "language": "python",
   "name": "python3"
  },
  "language_info": {
   "codemirror_mode": {
    "name": "ipython",
    "version": 2
   },
   "file_extension": ".py",
   "mimetype": "text/x-python",
   "name": "python",
   "nbconvert_exporter": "python",
   "pygments_lexer": "ipython2",
   "version": "2.7.6"
  }
 },
 "nbformat": 4,
 "nbformat_minor": 0
}